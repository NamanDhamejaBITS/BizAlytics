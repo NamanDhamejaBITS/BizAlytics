{
 "cells": [
  {
   "cell_type": "code",
   "execution_count": 1,
   "id": "a8c9d0c6",
   "metadata": {},
   "outputs": [],
   "source": [
    "import pandas as pd"
   ]
  },
  {
   "cell_type": "markdown",
   "id": "c3b4e621",
   "metadata": {},
   "source": [
    "## Clean the Dataset\n",
    "1. Cleaned the dataset using excel already.\n",
    "    - Deleted columns with information of no use\n",
    "    - Used city as \"Melbourne\" only\n",
    "    - Deleted special characters from \"amenities\" column and replaced spaces with \"_\"; translation missing: word also deleted; replaced \",\" with spaces.\n",
    "    \n",
    "2. Using python: \n",
    "    - Read the clean file.\n",
    "    - Created column to count amenities.\n",
    "    - Filled NA values with \"0\" in beds, bathrooms.\n",
    "    - Filled NA values with \"None\" in columns Summary, Description, house_rules.\n",
    "    "
   ]
  },
  {
   "cell_type": "code",
   "execution_count": 2,
   "id": "cd792be5",
   "metadata": {},
   "outputs": [],
   "source": [
    "def clean():\n",
    "    df=pd.read_csv(\"testing.csv\")\n",
    "# Cleaned data\n",
    "    df = df[df['amenities'].notna()]\n",
    "    df[\"count_amenities\"]=0\n",
    "    for i in range(0,len(df)):\n",
    "        try:\n",
    "            df[\"count_amenities\"][i]=len(df[\"amenities\"][i].split())\n",
    "        except:\n",
    "            df[\"count_amenities\"][i]=0\n",
    "    df.drop([\"review_scores_rating\",\"review_scores_accuracy\"],axis=1,inplace=True)\n",
    "    df[\"beds\"].fillna(value=0,inplace=True)\n",
    "    df[\"bathrooms\"].fillna(value=0,inplace=True)\n",
    "    df[\"summary\"].fillna(value=\"None\",inplace=True)\n",
    "    df[\"description\"].fillna(value=\"None\",inplace=True)\n",
    "    df[\"house_rules\"].fillna(value=\"None\",inplace=True)\n",
    "    df.to_csv(\"data.csv\")\n"
   ]
  },
  {
   "cell_type": "code",
   "execution_count": 3,
   "id": "47cba20d",
   "metadata": {},
   "outputs": [
    {
     "name": "stderr",
     "output_type": "stream",
     "text": [
      "C:\\Users\\Naman\\AppData\\Local\\Temp/ipykernel_15020/2692668860.py:8: SettingWithCopyWarning: \n",
      "A value is trying to be set on a copy of a slice from a DataFrame\n",
      "\n",
      "See the caveats in the documentation: https://pandas.pydata.org/pandas-docs/stable/user_guide/indexing.html#returning-a-view-versus-a-copy\n",
      "  df[\"count_amenities\"][i]=len(df[\"amenities\"][i].split())\n",
      "C:\\Users\\Naman\\AppData\\Local\\Temp/ipykernel_15020/2692668860.py:10: SettingWithCopyWarning: \n",
      "A value is trying to be set on a copy of a slice from a DataFrame\n",
      "\n",
      "See the caveats in the documentation: https://pandas.pydata.org/pandas-docs/stable/user_guide/indexing.html#returning-a-view-versus-a-copy\n",
      "  df[\"count_amenities\"][i]=0\n"
     ]
    }
   ],
   "source": [
    "clean()"
   ]
  },
  {
   "cell_type": "markdown",
   "id": "0c3a9a7e",
   "metadata": {},
   "source": [
    "## Data split to Train, Test"
   ]
  },
  {
   "cell_type": "code",
   "execution_count": 4,
   "id": "cd058ad9",
   "metadata": {},
   "outputs": [],
   "source": [
    "from sklearn.ensemble import GradientBoostingRegressor\n",
    "from sklearn.model_selection import train_test_split\n",
    "from sklearn.svm import SVR\n",
    "from sklearn.linear_model import LogisticRegression\n",
    "import pickle\n",
    "df=pd.read_csv(\"data.csv\")\n",
    "cols=['accommodates', 'bathrooms','bedrooms', 'beds','total_review','count_amenities','total_review']\n",
    "X=df[cols]\n",
    "y=df[\"total_price\"]\n",
    "\n",
    "def train_data(X,y):\n",
    "    X_train, X_test, y_train, y_test = train_test_split(X, y, random_state=11)\n",
    "    return X_train, X_test, y_train, y_test"
   ]
  },
  {
   "cell_type": "code",
   "execution_count": 5,
   "id": "371b4b84",
   "metadata": {},
   "outputs": [],
   "source": [
    "X_train, X_test, y_train, y_test = train_data(X,y)"
   ]
  },
  {
   "cell_type": "markdown",
   "id": "ddc911b6",
   "metadata": {},
   "source": [
    "## Model to predit price\n",
    "1. Scale the data\n",
    "2. Create the model "
   ]
  },
  {
   "cell_type": "code",
   "execution_count": 6,
   "id": "a571a6bf",
   "metadata": {},
   "outputs": [],
   "source": [
    "from sklearn.preprocessing import StandardScaler\n",
    "from tensorflow.keras.layers import Dense, Dropout\n",
    "from tensorflow.keras import Sequential\n",
    "from tensorflow.keras.optimizers import Adam\n",
    "from tensorflow.keras.losses import MeanSquaredLogarithmicError"
   ]
  },
  {
   "cell_type": "code",
   "execution_count": 7,
   "id": "1a2c0541",
   "metadata": {},
   "outputs": [],
   "source": [
    "def scale_data(X_train, X_test): \n",
    "    standard_scaler = StandardScaler()\n",
    "    x_train_scaled = pd.DataFrame(\n",
    "          standard_scaler.fit_transform(X_train),\n",
    "          columns=X_train.columns\n",
    "      )\n",
    "    x_test_scaled = pd.DataFrame(\n",
    "          standard_scaler.transform(X_test),\n",
    "          columns = X_test.columns\n",
    "      )\n",
    "    return x_train_scaled, x_test_scaled\n",
    "X_train, X_test= scale_data(X_train, X_test)"
   ]
  },
  {
   "cell_type": "code",
   "execution_count": 8,
   "id": "f4701a7a",
   "metadata": {},
   "outputs": [],
   "source": [
    "def model_create():\n",
    "    model = Sequential([\n",
    "        Dense(160, kernel_initializer='normal', activation='relu'),\n",
    "        Dropout(0.2),\n",
    "        Dense(480, kernel_initializer='normal', activation='relu'),\n",
    "        Dropout(0.2),\n",
    "        Dense(256, kernel_initializer='normal', activation='relu'),\n",
    "        Dense(1, kernel_initializer='normal', activation='linear')\n",
    "      ])\n",
    "    model.compile(\n",
    "        loss=MeanSquaredLogarithmicError(), \n",
    "        optimizer=Adam(learning_rate=0.01), \n",
    "        metrics=[MeanSquaredLogarithmicError()]\n",
    "    )\n",
    "    return model"
   ]
  },
  {
   "cell_type": "code",
   "execution_count": 9,
   "id": "fb698145",
   "metadata": {},
   "outputs": [
    {
     "name": "stdout",
     "output_type": "stream",
     "text": [
      "173/173 [==============================] - 2s 4ms/step - loss: 1.5512 - mean_squared_logarithmic_error: 1.5473\n"
     ]
    },
    {
     "data": {
      "text/plain": [
       "<keras.callbacks.History at 0x2520b099ac0>"
      ]
     },
     "execution_count": 9,
     "metadata": {},
     "output_type": "execute_result"
    }
   ],
   "source": [
    "model=model_create()\n",
    "model.fit(X_train,y_train)"
   ]
  },
  {
   "cell_type": "markdown",
   "id": "88bf0cef",
   "metadata": {},
   "source": [
    "## Predict the price for all the properties"
   ]
  },
  {
   "cell_type": "code",
   "execution_count": 10,
   "id": "7ac18b92",
   "metadata": {},
   "outputs": [],
   "source": [
    "df=pd.read_csv(\"data.csv\")\n",
    "predict_df=df[cols]\n",
    "predict_df\n",
    "\n",
    "standard_scaler = StandardScaler()\n",
    "predict_df = pd.DataFrame(\n",
    "          standard_scaler.fit_transform(predict_df),\n",
    "          columns=cols\n",
    "      )"
   ]
  },
  {
   "cell_type": "code",
   "execution_count": 11,
   "id": "188f7033",
   "metadata": {},
   "outputs": [],
   "source": [
    "df[\"predicted_price\"]=model.predict(predict_df)"
   ]
  },
  {
   "cell_type": "code",
   "execution_count": 12,
   "id": "48346177",
   "metadata": {},
   "outputs": [],
   "source": [
    "try:\n",
    "    df.drop(\"Unnamed: 0\", axis=1, inplace=True)\n",
    "    df\n",
    "except:\n",
    "    df"
   ]
  },
  {
   "cell_type": "markdown",
   "id": "a2bc8b08",
   "metadata": {},
   "source": [
    "## Create new Columns for implementing conditions"
   ]
  },
  {
   "cell_type": "code",
   "execution_count": 13,
   "id": "503910b6",
   "metadata": {},
   "outputs": [
    {
     "data": {
      "text/html": [
       "<div>\n",
       "<style scoped>\n",
       "    .dataframe tbody tr th:only-of-type {\n",
       "        vertical-align: middle;\n",
       "    }\n",
       "\n",
       "    .dataframe tbody tr th {\n",
       "        vertical-align: top;\n",
       "    }\n",
       "\n",
       "    .dataframe thead th {\n",
       "        text-align: right;\n",
       "    }\n",
       "</style>\n",
       "<table border=\"1\" class=\"dataframe\">\n",
       "  <thead>\n",
       "    <tr style=\"text-align: right;\">\n",
       "      <th></th>\n",
       "      <th>accommodates</th>\n",
       "      <th>bathrooms</th>\n",
       "      <th>bedrooms</th>\n",
       "      <th>beds</th>\n",
       "      <th>total_review</th>\n",
       "      <th>count_amenities</th>\n",
       "      <th>total_price</th>\n",
       "      <th>predicted_price</th>\n",
       "      <th>difference_price</th>\n",
       "    </tr>\n",
       "  </thead>\n",
       "  <tbody>\n",
       "    <tr>\n",
       "      <th>0</th>\n",
       "      <td>2</td>\n",
       "      <td>1.0</td>\n",
       "      <td>1</td>\n",
       "      <td>1.0</td>\n",
       "      <td>930</td>\n",
       "      <td>40</td>\n",
       "      <td>1130</td>\n",
       "      <td>334.004211</td>\n",
       "      <td>795.995789</td>\n",
       "    </tr>\n",
       "    <tr>\n",
       "      <th>1</th>\n",
       "      <td>4</td>\n",
       "      <td>1.5</td>\n",
       "      <td>1</td>\n",
       "      <td>2.0</td>\n",
       "      <td>990</td>\n",
       "      <td>20</td>\n",
       "      <td>7193</td>\n",
       "      <td>308.442596</td>\n",
       "      <td>6884.557404</td>\n",
       "    </tr>\n",
       "    <tr>\n",
       "      <th>2</th>\n",
       "      <td>1</td>\n",
       "      <td>2.0</td>\n",
       "      <td>1</td>\n",
       "      <td>1.0</td>\n",
       "      <td>970</td>\n",
       "      <td>13</td>\n",
       "      <td>64</td>\n",
       "      <td>260.856354</td>\n",
       "      <td>-196.856354</td>\n",
       "    </tr>\n",
       "    <tr>\n",
       "      <th>3</th>\n",
       "      <td>2</td>\n",
       "      <td>1.0</td>\n",
       "      <td>1</td>\n",
       "      <td>1.0</td>\n",
       "      <td>980</td>\n",
       "      <td>18</td>\n",
       "      <td>500</td>\n",
       "      <td>286.652588</td>\n",
       "      <td>213.347412</td>\n",
       "    </tr>\n",
       "    <tr>\n",
       "      <th>4</th>\n",
       "      <td>2</td>\n",
       "      <td>2.0</td>\n",
       "      <td>1</td>\n",
       "      <td>1.0</td>\n",
       "      <td>810</td>\n",
       "      <td>43</td>\n",
       "      <td>1244</td>\n",
       "      <td>254.842117</td>\n",
       "      <td>989.157883</td>\n",
       "    </tr>\n",
       "    <tr>\n",
       "      <th>...</th>\n",
       "      <td>...</td>\n",
       "      <td>...</td>\n",
       "      <td>...</td>\n",
       "      <td>...</td>\n",
       "      <td>...</td>\n",
       "      <td>...</td>\n",
       "      <td>...</td>\n",
       "      <td>...</td>\n",
       "      <td>...</td>\n",
       "    </tr>\n",
       "    <tr>\n",
       "      <th>7353</th>\n",
       "      <td>3</td>\n",
       "      <td>1.0</td>\n",
       "      <td>1</td>\n",
       "      <td>1.0</td>\n",
       "      <td>0</td>\n",
       "      <td>0</td>\n",
       "      <td>482</td>\n",
       "      <td>152.147293</td>\n",
       "      <td>329.852707</td>\n",
       "    </tr>\n",
       "    <tr>\n",
       "      <th>7354</th>\n",
       "      <td>1</td>\n",
       "      <td>1.0</td>\n",
       "      <td>1</td>\n",
       "      <td>1.0</td>\n",
       "      <td>0</td>\n",
       "      <td>0</td>\n",
       "      <td>30</td>\n",
       "      <td>79.851753</td>\n",
       "      <td>-49.851753</td>\n",
       "    </tr>\n",
       "    <tr>\n",
       "      <th>7355</th>\n",
       "      <td>1</td>\n",
       "      <td>1.0</td>\n",
       "      <td>1</td>\n",
       "      <td>1.0</td>\n",
       "      <td>0</td>\n",
       "      <td>0</td>\n",
       "      <td>55</td>\n",
       "      <td>79.851753</td>\n",
       "      <td>-24.851753</td>\n",
       "    </tr>\n",
       "    <tr>\n",
       "      <th>7356</th>\n",
       "      <td>2</td>\n",
       "      <td>1.0</td>\n",
       "      <td>1</td>\n",
       "      <td>1.0</td>\n",
       "      <td>0</td>\n",
       "      <td>0</td>\n",
       "      <td>510</td>\n",
       "      <td>107.951714</td>\n",
       "      <td>402.048286</td>\n",
       "    </tr>\n",
       "    <tr>\n",
       "      <th>7357</th>\n",
       "      <td>5</td>\n",
       "      <td>2.0</td>\n",
       "      <td>1</td>\n",
       "      <td>3.0</td>\n",
       "      <td>0</td>\n",
       "      <td>0</td>\n",
       "      <td>179</td>\n",
       "      <td>320.451294</td>\n",
       "      <td>-141.451294</td>\n",
       "    </tr>\n",
       "  </tbody>\n",
       "</table>\n",
       "<p>7358 rows × 9 columns</p>\n",
       "</div>"
      ],
      "text/plain": [
       "      accommodates  bathrooms  bedrooms  beds  total_review  count_amenities  \\\n",
       "0                2        1.0         1   1.0           930               40   \n",
       "1                4        1.5         1   2.0           990               20   \n",
       "2                1        2.0         1   1.0           970               13   \n",
       "3                2        1.0         1   1.0           980               18   \n",
       "4                2        2.0         1   1.0           810               43   \n",
       "...            ...        ...       ...   ...           ...              ...   \n",
       "7353             3        1.0         1   1.0             0                0   \n",
       "7354             1        1.0         1   1.0             0                0   \n",
       "7355             1        1.0         1   1.0             0                0   \n",
       "7356             2        1.0         1   1.0             0                0   \n",
       "7357             5        2.0         1   3.0             0                0   \n",
       "\n",
       "      total_price  predicted_price  difference_price  \n",
       "0            1130       334.004211        795.995789  \n",
       "1            7193       308.442596       6884.557404  \n",
       "2              64       260.856354       -196.856354  \n",
       "3             500       286.652588        213.347412  \n",
       "4            1244       254.842117        989.157883  \n",
       "...           ...              ...               ...  \n",
       "7353          482       152.147293        329.852707  \n",
       "7354           30        79.851753        -49.851753  \n",
       "7355           55        79.851753        -24.851753  \n",
       "7356          510       107.951714        402.048286  \n",
       "7357          179       320.451294       -141.451294  \n",
       "\n",
       "[7358 rows x 9 columns]"
      ]
     },
     "execution_count": 13,
     "metadata": {},
     "output_type": "execute_result"
    }
   ],
   "source": [
    "df[\"difference_price\"]=df[\"total_price\"]-df[\"predicted_price\"]\n",
    "cols=['accommodates', 'bathrooms','bedrooms', 'beds','total_review','count_amenities',\"total_price\",\"predicted_price\",\"difference_price\"]\n",
    "df[cols]"
   ]
  },
  {
   "cell_type": "code",
   "execution_count": 14,
   "id": "680e4cbf",
   "metadata": {},
   "outputs": [
    {
     "name": "stderr",
     "output_type": "stream",
     "text": [
      "C:\\Users\\Naman\\AppData\\Local\\Temp/ipykernel_15020/281941432.py:4: SettingWithCopyWarning: \n",
      "A value is trying to be set on a copy of a slice from a DataFrame\n",
      "\n",
      "See the caveats in the documentation: https://pandas.pydata.org/pandas-docs/stable/user_guide/indexing.html#returning-a-view-versus-a-copy\n",
      "  df[\"outcome\"][i]=\"Overpriced\"\n",
      "C:\\Users\\Naman\\AppData\\Local\\Temp/ipykernel_15020/281941432.py:6: SettingWithCopyWarning: \n",
      "A value is trying to be set on a copy of a slice from a DataFrame\n",
      "\n",
      "See the caveats in the documentation: https://pandas.pydata.org/pandas-docs/stable/user_guide/indexing.html#returning-a-view-versus-a-copy\n",
      "  df[\"outcome\"][i]=\"UnderPriced\"\n",
      "C:\\Users\\Naman\\AppData\\Local\\Temp/ipykernel_15020/281941432.py:8: SettingWithCopyWarning: \n",
      "A value is trying to be set on a copy of a slice from a DataFrame\n",
      "\n",
      "See the caveats in the documentation: https://pandas.pydata.org/pandas-docs/stable/user_guide/indexing.html#returning-a-view-versus-a-copy\n",
      "  df[\"outcome\"][i]=\"Negotiable\"\n"
     ]
    }
   ],
   "source": [
    "df[\"outcome\"]=\"\"\n",
    "for i in range(len(df)):\n",
    "    if(df[\"difference_price\"][i]>100):\n",
    "        df[\"outcome\"][i]=\"Overpriced\"\n",
    "    elif(df[\"difference_price\"][i]<-100):\n",
    "        df[\"outcome\"][i]=\"UnderPriced\"\n",
    "    else:\n",
    "        df[\"outcome\"][i]=\"Negotiable\""
   ]
  },
  {
   "cell_type": "code",
   "execution_count": 15,
   "id": "85225fcd",
   "metadata": {},
   "outputs": [],
   "source": [
    "df.to_csv(\"data_predicted.csv\")"
   ]
  },
  {
   "cell_type": "code",
   "execution_count": 16,
   "id": "aea0e233",
   "metadata": {},
   "outputs": [
    {
     "data": {
      "text/plain": [
       "['accommodates',\n",
       " 'bathrooms',\n",
       " 'bedrooms',\n",
       " 'beds',\n",
       " 'total_review',\n",
       " 'count_amenities',\n",
       " 'total_price',\n",
       " 'predicted_price',\n",
       " 'difference_price']"
      ]
     },
     "execution_count": 16,
     "metadata": {},
     "output_type": "execute_result"
    }
   ],
   "source": [
    "accepted_df=pd.read_csv(\"data_predicted.csv\")\n",
    "cols"
   ]
  },
  {
   "cell_type": "markdown",
   "id": "a336e50a",
   "metadata": {},
   "source": [
    "## Filter the data"
   ]
  },
  {
   "cell_type": "code",
   "execution_count": 17,
   "id": "62526480",
   "metadata": {},
   "outputs": [],
   "source": [
    "temp_df = accepted_df.loc[(accepted_df['is_location_exact'] == 't') & \n",
    "                         (accepted_df['total_review'] >= 750) &\n",
    "                         (accepted_df['outcome'] !=\"Overpriced\" )&\n",
    "                         (accepted_df['instant_bookable'] ==\"t\" )]"
   ]
  },
  {
   "cell_type": "code",
   "execution_count": 18,
   "id": "5e1286fa",
   "metadata": {},
   "outputs": [
    {
     "name": "stdout",
     "output_type": "stream",
     "text": [
      "\n",
      "\n"
     ]
    }
   ],
   "source": [
    "try:\n",
    "    temp_df.drop([\"Unnamed: 0\",\"summary\",\"index\"],inplace=True,axis=1)\n",
    "except:\n",
    "    print()\n",
    "#temp_df.drop(\"summary\",inplace=True,axis=1)\n",
    "accepted_df=temp_df.reset_index()\n",
    "try:\n",
    "    temp_df.drop(\"index\",inplace=True,axis=1)\n",
    "except:\n",
    "    print()\n",
    "accepted_df.to_csv(\"accepted_df.csv\")"
   ]
  },
  {
   "cell_type": "markdown",
   "id": "370f3670",
   "metadata": {},
   "source": [
    "## Use NLTK to find polarity of description and house"
   ]
  },
  {
   "cell_type": "code",
   "execution_count": 20,
   "id": "5b8ac944",
   "metadata": {},
   "outputs": [],
   "source": [
    "import nltk\n",
    "import pandas as pd\n",
    "df=pd.read_csv(\"accepted_df.csv\")\n",
    "from nltk.sentiment import SentimentIntensityAnalyzer\n",
    "sia = SentimentIntensityAnalyzer()\n",
    " # Download if not already downloaded- nltk.download()\n",
    "x=['neg','neu','pos','compound']\n",
    "\n",
    "sent_desc=pd.DataFrame(columns = x)\n",
    "for i in range(len(df)):\n",
    "    x=sia.polarity_scores(df[\"description\"][i])\n",
    "    sent_desc=sent_desc.append(x , ignore_index=True)\n",
    "\n",
    "sent_house=pd.DataFrame(columns = x)\n",
    "for i in range(len(df)):\n",
    "    x=sia.polarity_scores(df[\"house_rules\"][i])\n",
    "    sent_house=sent_house.append(x , ignore_index=True)\n",
    "    \n",
    "    \n",
    "sent_desc.rename(columns = {'neu':'desc_neu','pos':'desc_pos','neg':'desc_neg','compound':'desc_aggr'}, inplace = True)\n",
    "sent_house.rename(columns = {'neu':'house_neu','pos':'house_pos','neg':'house_neg','compound':'house_aggr'}, inplace = True)\n",
    "\n",
    "result = pd.concat([sent_desc, sent_house], axis=1)\n",
    "\n",
    "data=pd.concat([df, result], axis=1)\n",
    "try:\n",
    "    data.drop([\"Unnamed: 0\",\"index\",\"Unnamed: 0.1\"], inplace=True, axis=1)\n",
    "    data.to_csv(\"output.csv\")\n",
    "except:\n",
    "    data.to_csv(\"output.csv\")"
   ]
  },
  {
   "cell_type": "markdown",
   "id": "08b1b3d8",
   "metadata": {},
   "source": [
    "## Inference\n",
    "\n",
    "1. The cleaned file contains properties with best chance to be chosen.\n",
    "2. When sorted the file with most positice description, 0 negative house rules. We get id =30019162 as the best house.\n",
    "3. From the file we can choose the best property according to the customer conditions."
   ]
  },
  {
   "cell_type": "code",
   "execution_count": null,
   "id": "34211f48",
   "metadata": {},
   "outputs": [],
   "source": []
  }
 ],
 "metadata": {
  "kernelspec": {
   "display_name": "Python 3 (ipykernel)",
   "language": "python",
   "name": "python3"
  },
  "language_info": {
   "codemirror_mode": {
    "name": "ipython",
    "version": 3
   },
   "file_extension": ".py",
   "mimetype": "text/x-python",
   "name": "python",
   "nbconvert_exporter": "python",
   "pygments_lexer": "ipython3",
   "version": "3.9.7"
  }
 },
 "nbformat": 4,
 "nbformat_minor": 5
}
